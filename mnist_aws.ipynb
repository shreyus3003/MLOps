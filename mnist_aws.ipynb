{
  "nbformat": 4,
  "nbformat_minor": 0,
  "metadata": {
    "colab": {
      "provenance": [],
      "include_colab_link": true
    },
    "kernelspec": {
      "name": "python3",
      "display_name": "Python 3"
    },
    "language_info": {
      "name": "python"
    },
    "accelerator": "GPU",
    "gpuClass": "standard"
  },
  "cells": [
    {
      "cell_type": "markdown",
      "metadata": {
        "id": "view-in-github",
        "colab_type": "text"
      },
      "source": [
        "<a href=\"https://colab.research.google.com/github/shreyus3003/MLOps/blob/main/mnist_aws.ipynb\" target=\"_parent\"><img src=\"https://colab.research.google.com/assets/colab-badge.svg\" alt=\"Open In Colab\"/></a>"
      ]
    },
    {
      "cell_type": "code",
      "execution_count": 1,
      "metadata": {
        "id": "6K4nPPTg8WgI"
      },
      "outputs": [],
      "source": [
        "import tensorflow as tf\n",
        "from keras.datasets import mnist\n",
        "import matplotlib.pyplot as plt\n",
        "from tensorflow.keras.models import Sequential\n",
        "import os\n",
        "import datetime\n",
        "\n",
        "%load_ext tensorboard\n"
      ]
    },
    {
      "cell_type": "code",
      "source": [
        "(train_x, train_y), (test_x, test_y) = mnist.load_data()"
      ],
      "metadata": {
        "id": "blgfbPa28gE7",
        "outputId": "078b98f6-9bb3-4c6c-8244-7f4e2ecafed7",
        "colab": {
          "base_uri": "https://localhost:8080/"
        }
      },
      "execution_count": 2,
      "outputs": [
        {
          "output_type": "stream",
          "name": "stdout",
          "text": [
            "Downloading data from https://storage.googleapis.com/tensorflow/tf-keras-datasets/mnist.npz\n",
            "11490434/11490434 [==============================] - 2s 0us/step\n"
          ]
        }
      ]
    },
    {
      "cell_type": "code",
      "source": [
        "for i in range(3):\n",
        "  plt.subplot(421)\n",
        "  plt.imshow(train_x[i])\n",
        "  plt.show()\n",
        "\n",
        "plt.imshow(train_x[15])\n",
        "plt.show()"
      ],
      "metadata": {
        "colab": {
          "base_uri": "https://localhost:8080/",
          "height": 508
        },
        "id": "bC2Vhy1-9UTw",
        "outputId": "49838020-712c-436f-ad0b-6fa4dab877d4"
      },
      "execution_count": 3,
      "outputs": [
        {
          "output_type": "display_data",
          "data": {
            "text/plain": [
              "<Figure size 432x288 with 1 Axes>"
            ],
            "image/png": "[encoded data removed]"
          },
          "metadata": {
            "needs_background": "light"
          }
        },
        {
          "output_type": "display_data",
          "data": {
            "text/plain": [
              "<Figure size 432x288 with 1 Axes>"
            ],
            "image/png": "[encoded data removed]"
          },
          "metadata": {
            "needs_background": "light"
          }
        },
        {
          "output_type": "display_data",
          "data": {
            "text/plain": [
              "<Figure size 432x288 with 1 Axes>"
            ],
            "image/png": "[encoded data removed]"
          },
          "metadata": {
            "needs_background": "light"
          }
        },
        {
          "output_type": "display_data",
          "data": {
            "text/plain": [
              "<Figure size 432x288 with 1 Axes>"
            ],
            "image/png": "[encoded data removed]"
          },
          "metadata": {
            "needs_background": "light"
          }
        }
      ]
    },
    {
      "cell_type": "code",
      "source": [
        "print(train_x.shape)\n",
        "train_x.shape[0]"
      ],
      "metadata": {
        "colab": {
          "base_uri": "https://localhost:8080/"
        },
        "id": "q_AxiyDW93a4",
        "outputId": "f4b0b4a4-3389-4b9f-fa52-cbb8a57b8784"
      },
      "execution_count": 4,
      "outputs": [
        {
          "output_type": "stream",
          "name": "stdout",
          "text": [
            "(60000, 28, 28)\n"
          ]
        },
        {
          "output_type": "execute_result",
          "data": {
            "text/plain": [
              "60000"
            ]
          },
          "metadata": {},
          "execution_count": 4
        }
      ]
    },
    {
      "cell_type": "code",
      "source": [
        "# def load_dataset():\n",
        "(train_x, train_y), (test_x, test_y) = mnist.load_data()\n",
        "from keras.utils.np_utils import to_categorical\n",
        "x_train = train_x.reshape((train_x.shape[0], 28,28,1))\n",
        "x_test = test_x.reshape((test_x.shape[0], 28,28,1))\n",
        "y_train = to_categorical(train_y)\n",
        "print(x_train.shape)\n",
        "y_test = to_categorical(test_y)\n",
        "# return x_train, x_test, y_train, y_test"
      ],
      "metadata": {
        "id": "1eEYPMw5KYjJ",
        "outputId": "7567e2f6-b7d0-4d4e-de89-cb7b11a2ab04",
        "colab": {
          "base_uri": "https://localhost:8080/"
        }
      },
      "execution_count": 5,
      "outputs": [
        {
          "output_type": "stream",
          "name": "stdout",
          "text": [
            "(60000, 28, 28, 1)\n"
          ]
        }
      ]
    },
    {
      "cell_type": "code",
      "source": [
        "# def normalize_data(train, test):\n",
        "train_norm = x_train.astype('float32')\n",
        "test_norm = x_test.astype('float32')\n",
        "train_norm = train_norm/255.0\n",
        "test_norm  = test_norm/255.0\n",
        "# return train_norm, test_norm\n"
      ],
      "metadata": {
        "id": "LR2A3oySK2Yy"
      },
      "execution_count": 6,
      "outputs": []
    },
    {
      "cell_type": "code",
      "source": [
        "from tensorflow.keras.layers import Conv2D\n",
        "from tensorflow.keras.layers import MaxPooling2D\n",
        "from tensorflow.keras.layers import Dense\n",
        "from tensorflow.keras.layers import Flatten\n",
        "from tensorflow.keras.optimizers import SGD\n",
        "from tensorflow.keras.layers import BatchNormalization"
      ],
      "metadata": {
        "id": "2fI0kRwYO-rU"
      },
      "execution_count": 7,
      "outputs": []
    },
    {
      "cell_type": "code",
      "source": [
        "logdir = os.path.join(\"logs\", datetime.datetime.now().strftime(\"%Y%m%d-%H%M%S\"))\n",
        "tensorboard_callback = tf.keras.callbacks.TensorBoard(logdir, histogram_freq=1)"
      ],
      "metadata": {
        "id": "1urG_IsDX-3h"
      },
      "execution_count": 8,
      "outputs": []
    },
    {
      "cell_type": "code",
      "source": [
        "from tensorflow.python.framework.func_graph import flatten\n",
        "# def model():\n",
        "model = Sequential()\n",
        "# model.add(Conv2D(32, (3,3), activation='relu', kernel_initializer='he_uniform', input_shape=(28,28,1), data_format='channels_first'))\n",
        "model.add(Conv2D(32, (3,3), activation='relu', kernel_initializer='he_uniform', input_shape=(28,28,1)))\n",
        "model.add(MaxPooling2D((2,2)))\n",
        "model.add(Conv2D(64, (3,3), activation='relu', kernel_initializer='he_uniform'))\n",
        "model.add(MaxPooling2D((2,2)))\n",
        "model.add(Flatten())\n",
        "model.add(Dense(100, activation='relu', kernel_initializer='he_uniform'))\n",
        "model.add(Dense(10, activation='softmax'))\n",
        "opt = SGD(learning_rate=0.01, momentum=0.9)\n",
        "model.compile(optimizer=opt, loss='categorical_crossentropy', metrics=['accuracy'])\n",
        "# return model"
      ],
      "metadata": {
        "id": "iEJeKKO4OFGs"
      },
      "execution_count": 9,
      "outputs": []
    },
    {
      "cell_type": "code",
      "source": [
        "# model = model()"
      ],
      "metadata": {
        "id": "4rOG65uEOOen"
      },
      "execution_count": 10,
      "outputs": []
    },
    {
      "cell_type": "code",
      "source": [
        "# x_train, x_test, y_train, y_test = load_dataset()\n",
        "# X_train, X_test = normalize_data(x_train, x_test)\n",
        "X_train = train_norm\n",
        "X_test = test_norm\n",
        "model.fit(X_train, y_train, epochs=1, batch_size=32, validation_data=(X_test, y_test), callbacks=[tensorboard_callback])\n",
        "_, acc = model.evaluate(X_test, y_test)\n",
        "print(acc)"
      ],
      "metadata": {
        "colab": {
          "base_uri": "https://localhost:8080/"
        },
        "id": "RURpteOwRlL6",
        "outputId": "21adb8cb-b2e6-47a7-f5ef-d17ce6bb31f1"
      },
      "execution_count": 11,
      "outputs": [
        {
          "output_type": "stream",
          "name": "stdout",
          "text": [
            "1875/1875 [==============================] - 17s 4ms/step - loss: 0.1221 - accuracy: 0.9618 - val_loss: 0.0526 - val_accuracy: 0.9845\n",
            "313/313 [==============================] - 1s 3ms/step - loss: 0.0526 - accuracy: 0.9845\n",
            "0.984499990940094\n"
          ]
        }
      ]
    },
    {
      "cell_type": "code",
      "source": [
        "# %tensorboard --logdir logs"
      ],
      "metadata": {
        "id": "uyJqtKdzTI94"
      },
      "execution_count": 12,
      "outputs": []
    },
    {
      "cell_type": "code",
      "source": [
        "model.save('clasify.h5')"
      ],
      "metadata": {
        "id": "eJW3gUbtZrW6"
      },
      "execution_count": 19,
      "outputs": []
    },
    {
      "cell_type": "code",
      "source": [],
      "metadata": {
        "id": "2lAzp5_xReTV"
      },
      "execution_count": 19,
      "outputs": []
    },
    {
      "cell_type": "code",
      "source": [
        "\n",
        "from keras.utils.image_utils import load_img\n",
        "from tensorflow.keras.models import load_model\n",
        "img = load_img('/content/img_1.jpeg', grayscale=True, target_size=(28,28))\n",
        "print(img.size)\n",
        "plt.imshow(img)\n",
        "plt.show()"
      ],
      "metadata": {
        "colab": {
          "base_uri": "https://localhost:8080/",
          "height": 283
        },
        "id": "qLYP6FUJMdJp",
        "outputId": "ebeb59bd-8fd5-45a8-bda1-2dc49981bc16"
      },
      "execution_count": 25,
      "outputs": [
        {
          "output_type": "stream",
          "name": "stdout",
          "text": [
            "(28, 28)\n"
          ]
        },
        {
          "output_type": "display_data",
          "data": {
            "text/plain": [
              "<Figure size 432x288 with 1 Axes>"
            ],
            "image/png": "[encoded data removed]"
          },
          "metadata": {
            "needs_background": "light"
          }
        }
      ]
    },
    {
      "cell_type": "code",
      "source": [
        "from tensorflow.keras.utils import img_to_array\n",
        "\n",
        "img = img_to_array(img)\n",
        "img = img.reshape(1, 28, 28, 1)\n",
        "img_res = img.astype('float32')\n",
        "img_res = img_res/255.0"
      ],
      "metadata": {
        "id": "UzRsDGuONCm3"
      },
      "execution_count": 26,
      "outputs": []
    },
    {
      "cell_type": "code",
      "source": [
        "model = load_model('/content/clasify.h5')"
      ],
      "metadata": {
        "id": "5bCUOil4OkS7"
      },
      "execution_count": 27,
      "outputs": []
    },
    {
      "cell_type": "code",
      "source": [
        "import numpy as np\n",
        "\n",
        "pred = model.predict(img)\n",
        "digit = np.argmax(pred)\n",
        "print(digit)"
      ],
      "metadata": {
        "colab": {
          "base_uri": "https://localhost:8080/"
        },
        "id": "Gtju6MX7RQct",
        "outputId": "e6b5c99d-1c47-4876-a160-3a14e01aad3a"
      },
      "execution_count": 28,
      "outputs": [
        {
          "output_type": "stream",
          "name": "stdout",
          "text": [
            "1/1 [==============================] - 0s 110ms/step\n",
            "2\n"
          ]
        }
      ]
    },
    {
      "cell_type": "code",
      "source": [],
      "metadata": {
        "id": "QVUyqveYRl54"
      },
      "execution_count": null,
      "outputs": []
    }
  ]
}