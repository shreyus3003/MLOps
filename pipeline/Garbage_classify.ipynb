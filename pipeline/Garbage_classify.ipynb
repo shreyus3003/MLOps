{
  "nbformat": 4,
  "nbformat_minor": 0,
  "metadata": {
    "colab": {
      "provenance": [],
      "authorship_tag": "ABX9TyMIouHGT0/t9Vh3rnvqoAA8",
      "include_colab_link": true
    },
    "kernelspec": {
      "name": "python3",
      "display_name": "Python 3"
    },
    "language_info": {
      "name": "python"
    },
    "accelerator": "GPU",
    "gpuClass": "standard"
  },
  "cells": [
    {
      "cell_type": "markdown",
      "metadata": {
        "id": "view-in-github",
        "colab_type": "text"
      },
      "source": [
        "<a href=\"https://colab.research.google.com/github/shreyus3003/AWS-SageMaker/blob/master/Garbage_classify.ipynb\" target=\"_parent\"><img src=\"https://colab.research.google.com/assets/colab-badge.svg\" alt=\"Open In Colab\"/></a>"
      ]
    },
    {
      "cell_type": "code",
      "execution_count": 59,
      "metadata": {
        "id": "soL4pwMfPM8r"
      },
      "outputs": [],
      "source": [
        "import cv2\n",
        "import numpy as np\n",
        "import pathlib"
      ]
    },
    {
      "cell_type": "code",
      "source": [
        "!wget https://raw.githubusercontent.com/Team-Invincibles/Deep-learning-final-project/master/garbage-classification.zip"
      ],
      "metadata": {
        "colab": {
          "base_uri": "https://localhost:8080/"
        },
        "id": "YIH5m3jyPk7L",
        "outputId": "3698eeb8-e2f9-4d89-af25-6ba5d2dd9884"
      },
      "execution_count": 2,
      "outputs": [
        {
          "output_type": "stream",
          "name": "stdout",
          "text": [
            "--2022-12-05 17:04:17--  https://raw.githubusercontent.com/Team-Invincibles/Deep-learning-final-project/master/garbage-classification.zip\n",
            "Resolving raw.githubusercontent.com (raw.githubusercontent.com)... 185.199.108.133, 185.199.109.133, 185.199.110.133, ...\n",
            "Connecting to raw.githubusercontent.com (raw.githubusercontent.com)|185.199.108.133|:443... connected.\n",
            "HTTP request sent, awaiting response... 200 OK\n",
            "Length: 44465034 (42M) [application/zip]\n",
            "Saving to: ‘garbage-classification.zip’\n",
            "\n",
            "garbage-classificat 100%[===================>]  42.40M  --.-KB/s    in 0.1s    \n",
            "\n",
            "2022-12-05 17:04:23 (308 MB/s) - ‘garbage-classification.zip’ saved [44465034/44465034]\n",
            "\n"
          ]
        }
      ]
    },
    {
      "cell_type": "code",
      "source": [
        "!unzip /content/garbage-classification.zip\n"
      ],
      "metadata": {
        "id": "NnNRrSxkPtST"
      },
      "execution_count": null,
      "outputs": []
    },
    {
      "cell_type": "code",
      "source": [
        "data_dir = \"/content/garbage-classification\"\n",
        "data_dir = pathlib.Path(data_dir)"
      ],
      "metadata": {
        "id": "gYikmG1SRKr_"
      },
      "execution_count": 12,
      "outputs": []
    },
    {
      "cell_type": "code",
      "source": [
        "data_dir.glob('*/*/*/*.jpg')"
      ],
      "metadata": {
        "colab": {
          "base_uri": "https://localhost:8080/"
        },
        "id": "hOROu73mRhXj",
        "outputId": "4dd08f3b-cd1b-4c80-db53-deaf774ce8a0"
      },
      "execution_count": 19,
      "outputs": [
        {
          "output_type": "execute_result",
          "data": {
            "text/plain": [
              "<generator object Path.glob at 0x7ff265ffe890>"
            ]
          },
          "metadata": {},
          "execution_count": 19
        }
      ]
    },
    {
      "cell_type": "code",
      "source": [
        "\n",
        "image_count = len(list(data_dir.glob('*/*/*/*.jpg')))\n",
        "image_count"
      ],
      "metadata": {
        "colab": {
          "base_uri": "https://localhost:8080/"
        },
        "id": "vaXPC4DOP6yv",
        "outputId": "a63e2a0f-a711-4a19-abf6-f4bf9a7457b7"
      },
      "execution_count": 20,
      "outputs": [
        {
          "output_type": "execute_result",
          "data": {
            "text/plain": [
              "2527"
            ]
          },
          "metadata": {},
          "execution_count": 20
        }
      ]
    },
    {
      "cell_type": "code",
      "source": [
        "import PIL\n",
        "import glob\n",
        "import os"
      ],
      "metadata": {
        "id": "D1jZZypjTUEq"
      },
      "execution_count": 50,
      "outputs": []
    },
    {
      "cell_type": "code",
      "source": [
        "cardboard = list(data_dir.glob(\"*/*/cardboard/*\"))\n",
        "PIL.Image.open(str(cardboard[0]))"
      ],
      "metadata": {
        "id": "iyKkaBQfRZu-"
      },
      "execution_count": null,
      "outputs": []
    },
    {
      "cell_type": "code",
      "source": [
        "trash_images = []\n",
        "labels = []\n",
        "for fold in glob.glob(\"/content/garbage-classification/Garbage classification/Garbage classification/*/\"):\n",
        "  class_label = fold.split(\"/\")[5]\n",
        "  # print(class_label)\n",
        "  # print(\"****\")\n",
        "  for eclass in glob.glob(os.path.join(fold,\"*.jpg\")):\n",
        "    # print(eclass)\n",
        "    image = cv2.imread(eclass, cv2.IMREAD_COLOR)\n",
        "\n",
        "    image  = cv2.resize(image, (70,70))\n",
        "\n",
        "    image = cv2.cvtColor(image, cv2.COLOR_RGB2BGR)\n",
        "\n",
        "    trash_images.append(image)\n",
        "    labels.append(class_label)\n",
        "\n",
        "trash_images = np.array(trash_images)\n",
        "labels = np.array(labels)\n",
        "\n",
        "trash_images\n",
        "labels\n",
        "    \n"
      ],
      "metadata": {
        "colab": {
          "base_uri": "https://localhost:8080/"
        },
        "id": "lX4d14NPTaEj",
        "outputId": "31e34ed7-994b-4862-a544-80b9d17f3e99"
      },
      "execution_count": 75,
      "outputs": [
        {
          "output_type": "execute_result",
          "data": {
            "text/plain": [
              "array(['trash', 'trash', 'trash', ..., 'cardboard', 'cardboard',\n",
              "       'cardboard'], dtype='<U9')"
            ]
          },
          "metadata": {},
          "execution_count": 75
        }
      ]
    },
    {
      "cell_type": "code",
      "source": [],
      "metadata": {
        "id": "fASzyeToUY3H"
      },
      "execution_count": null,
      "outputs": []
    }
  ]
}